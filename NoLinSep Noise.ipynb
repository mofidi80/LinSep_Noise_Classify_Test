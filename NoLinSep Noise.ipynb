{
 "cells": [
  {
   "cell_type": "code",
   "execution_count": 9,
   "id": "112c7007-51de-47f6-a589-5ba266f675bb",
   "metadata": {},
   "outputs": [],
   "source": [
    "import pandas as pd\n",
    "import numpy as np\n",
    "from sklearn.model_selection import train_test_split\n",
    "from sklearn.metrics import accuracy_score\n",
    "import matplotlib.pyplot as plt"
   ]
  },
  {
   "cell_type": "markdown",
   "id": "93c65cb7-38ef-4182-b3aa-6b71056d1403",
   "metadata": {},
   "source": [
    "# Not Linear Separable, Noise"
   ]
  },
  {
   "cell_type": "code",
   "execution_count": 10,
   "id": "d92c944f-25ca-47d8-9628-5f2b63e465a4",
   "metadata": {},
   "outputs": [],
   "source": [
    "X = [2,4,3,6,5,5,6,1,3,2,5,4,2,3]\n",
    "Y = [1,3,2,5,4,2,3,2,4,3,6,5,5,6]\n",
    "Class = ['c1','c1','c1','c1','c1','c1','c1','c2','c2','c2','c2','c2','c2','c2']"
   ]
  },
  {
   "cell_type": "code",
   "execution_count": 11,
   "id": "9c5da2b9-7347-474f-938f-818c9acc98f6",
   "metadata": {},
   "outputs": [
    {
     "data": {
      "text/html": [
       "<div>\n",
       "<style scoped>\n",
       "    .dataframe tbody tr th:only-of-type {\n",
       "        vertical-align: middle;\n",
       "    }\n",
       "\n",
       "    .dataframe tbody tr th {\n",
       "        vertical-align: top;\n",
       "    }\n",
       "\n",
       "    .dataframe thead th {\n",
       "        text-align: right;\n",
       "    }\n",
       "</style>\n",
       "<table border=\"1\" class=\"dataframe\">\n",
       "  <thead>\n",
       "    <tr style=\"text-align: right;\">\n",
       "      <th></th>\n",
       "      <th>X</th>\n",
       "      <th>Y</th>\n",
       "      <th>Class</th>\n",
       "    </tr>\n",
       "  </thead>\n",
       "  <tbody>\n",
       "    <tr>\n",
       "      <th>1</th>\n",
       "      <td>2</td>\n",
       "      <td>1</td>\n",
       "      <td>c1</td>\n",
       "    </tr>\n",
       "    <tr>\n",
       "      <th>2</th>\n",
       "      <td>4</td>\n",
       "      <td>3</td>\n",
       "      <td>c1</td>\n",
       "    </tr>\n",
       "    <tr>\n",
       "      <th>3</th>\n",
       "      <td>3</td>\n",
       "      <td>2</td>\n",
       "      <td>c1</td>\n",
       "    </tr>\n",
       "    <tr>\n",
       "      <th>4</th>\n",
       "      <td>6</td>\n",
       "      <td>5</td>\n",
       "      <td>c1</td>\n",
       "    </tr>\n",
       "    <tr>\n",
       "      <th>5</th>\n",
       "      <td>5</td>\n",
       "      <td>4</td>\n",
       "      <td>c1</td>\n",
       "    </tr>\n",
       "  </tbody>\n",
       "</table>\n",
       "</div>"
      ],
      "text/plain": [
       "   X  Y Class\n",
       "1  2  1    c1\n",
       "2  4  3    c1\n",
       "3  3  2    c1\n",
       "4  6  5    c1\n",
       "5  5  4    c1"
      ]
     },
     "execution_count": 11,
     "metadata": {},
     "output_type": "execute_result"
    }
   ],
   "source": [
    "df = pd.DataFrame({\n",
    "    'X':X,\n",
    "    'Y':Y,\n",
    "    'Class':Class\n",
    "})\n",
    "df.index = np.arange(1, len(df)+1)\n",
    "df.head()"
   ]
  },
  {
   "cell_type": "code",
   "execution_count": 12,
   "id": "fde451ed-643d-4c50-873b-fec4b0902735",
   "metadata": {},
   "outputs": [
    {
     "data": {
      "text/html": [
       "<div>\n",
       "<style scoped>\n",
       "    .dataframe tbody tr th:only-of-type {\n",
       "        vertical-align: middle;\n",
       "    }\n",
       "\n",
       "    .dataframe tbody tr th {\n",
       "        vertical-align: top;\n",
       "    }\n",
       "\n",
       "    .dataframe thead th {\n",
       "        text-align: right;\n",
       "    }\n",
       "</style>\n",
       "<table border=\"1\" class=\"dataframe\">\n",
       "  <thead>\n",
       "    <tr style=\"text-align: right;\">\n",
       "      <th></th>\n",
       "      <th>X</th>\n",
       "      <th>Y</th>\n",
       "      <th>Class</th>\n",
       "    </tr>\n",
       "  </thead>\n",
       "  <tbody>\n",
       "    <tr>\n",
       "      <th>0</th>\n",
       "      <td>8</td>\n",
       "      <td>2</td>\n",
       "      <td>c1</td>\n",
       "    </tr>\n",
       "    <tr>\n",
       "      <th>1</th>\n",
       "      <td>10</td>\n",
       "      <td>4</td>\n",
       "      <td>c1</td>\n",
       "    </tr>\n",
       "  </tbody>\n",
       "</table>\n",
       "</div>"
      ],
      "text/plain": [
       "    X  Y Class\n",
       "0   8  2    c1\n",
       "1  10  4    c1"
      ]
     },
     "execution_count": 12,
     "metadata": {},
     "output_type": "execute_result"
    }
   ],
   "source": [
    "df_new = pd.DataFrame({\n",
    "    'X':[8,10],\n",
    "    'Y':[2,4],\n",
    "    'Class':['c1','c1']\n",
    "})\n",
    "df_new.head()"
   ]
  },
  {
   "cell_type": "code",
   "execution_count": 13,
   "id": "f5e7ecd2-6146-4d06-9cdf-279b635ab34d",
   "metadata": {
    "scrolled": true
   },
   "outputs": [
    {
     "data": {
      "text/html": [
       "<div>\n",
       "<style scoped>\n",
       "    .dataframe tbody tr th:only-of-type {\n",
       "        vertical-align: middle;\n",
       "    }\n",
       "\n",
       "    .dataframe tbody tr th {\n",
       "        vertical-align: top;\n",
       "    }\n",
       "\n",
       "    .dataframe thead th {\n",
       "        text-align: right;\n",
       "    }\n",
       "</style>\n",
       "<table border=\"1\" class=\"dataframe\">\n",
       "  <thead>\n",
       "    <tr style=\"text-align: right;\">\n",
       "      <th></th>\n",
       "      <th>index</th>\n",
       "      <th>X</th>\n",
       "      <th>Y</th>\n",
       "      <th>Class</th>\n",
       "    </tr>\n",
       "  </thead>\n",
       "  <tbody>\n",
       "    <tr>\n",
       "      <th>0</th>\n",
       "      <td>1</td>\n",
       "      <td>2</td>\n",
       "      <td>1</td>\n",
       "      <td>c1</td>\n",
       "    </tr>\n",
       "    <tr>\n",
       "      <th>1</th>\n",
       "      <td>2</td>\n",
       "      <td>4</td>\n",
       "      <td>3</td>\n",
       "      <td>c1</td>\n",
       "    </tr>\n",
       "    <tr>\n",
       "      <th>2</th>\n",
       "      <td>3</td>\n",
       "      <td>3</td>\n",
       "      <td>2</td>\n",
       "      <td>c1</td>\n",
       "    </tr>\n",
       "    <tr>\n",
       "      <th>3</th>\n",
       "      <td>4</td>\n",
       "      <td>6</td>\n",
       "      <td>5</td>\n",
       "      <td>c1</td>\n",
       "    </tr>\n",
       "    <tr>\n",
       "      <th>4</th>\n",
       "      <td>5</td>\n",
       "      <td>5</td>\n",
       "      <td>4</td>\n",
       "      <td>c1</td>\n",
       "    </tr>\n",
       "    <tr>\n",
       "      <th>5</th>\n",
       "      <td>6</td>\n",
       "      <td>5</td>\n",
       "      <td>2</td>\n",
       "      <td>c1</td>\n",
       "    </tr>\n",
       "    <tr>\n",
       "      <th>6</th>\n",
       "      <td>7</td>\n",
       "      <td>6</td>\n",
       "      <td>3</td>\n",
       "      <td>c1</td>\n",
       "    </tr>\n",
       "    <tr>\n",
       "      <th>7</th>\n",
       "      <td>8</td>\n",
       "      <td>1</td>\n",
       "      <td>2</td>\n",
       "      <td>c2</td>\n",
       "    </tr>\n",
       "    <tr>\n",
       "      <th>8</th>\n",
       "      <td>9</td>\n",
       "      <td>3</td>\n",
       "      <td>4</td>\n",
       "      <td>c2</td>\n",
       "    </tr>\n",
       "    <tr>\n",
       "      <th>9</th>\n",
       "      <td>10</td>\n",
       "      <td>2</td>\n",
       "      <td>3</td>\n",
       "      <td>c2</td>\n",
       "    </tr>\n",
       "    <tr>\n",
       "      <th>10</th>\n",
       "      <td>11</td>\n",
       "      <td>5</td>\n",
       "      <td>6</td>\n",
       "      <td>c2</td>\n",
       "    </tr>\n",
       "    <tr>\n",
       "      <th>11</th>\n",
       "      <td>12</td>\n",
       "      <td>4</td>\n",
       "      <td>5</td>\n",
       "      <td>c2</td>\n",
       "    </tr>\n",
       "    <tr>\n",
       "      <th>12</th>\n",
       "      <td>13</td>\n",
       "      <td>2</td>\n",
       "      <td>5</td>\n",
       "      <td>c2</td>\n",
       "    </tr>\n",
       "    <tr>\n",
       "      <th>13</th>\n",
       "      <td>14</td>\n",
       "      <td>3</td>\n",
       "      <td>6</td>\n",
       "      <td>c2</td>\n",
       "    </tr>\n",
       "    <tr>\n",
       "      <th>14</th>\n",
       "      <td>0</td>\n",
       "      <td>8</td>\n",
       "      <td>2</td>\n",
       "      <td>c1</td>\n",
       "    </tr>\n",
       "    <tr>\n",
       "      <th>15</th>\n",
       "      <td>1</td>\n",
       "      <td>10</td>\n",
       "      <td>4</td>\n",
       "      <td>c1</td>\n",
       "    </tr>\n",
       "  </tbody>\n",
       "</table>\n",
       "</div>"
      ],
      "text/plain": [
       "    index   X  Y Class\n",
       "0       1   2  1    c1\n",
       "1       2   4  3    c1\n",
       "2       3   3  2    c1\n",
       "3       4   6  5    c1\n",
       "4       5   5  4    c1\n",
       "5       6   5  2    c1\n",
       "6       7   6  3    c1\n",
       "7       8   1  2    c2\n",
       "8       9   3  4    c2\n",
       "9      10   2  3    c2\n",
       "10     11   5  6    c2\n",
       "11     12   4  5    c2\n",
       "12     13   2  5    c2\n",
       "13     14   3  6    c2\n",
       "14      0   8  2    c1\n",
       "15      1  10  4    c1"
      ]
     },
     "execution_count": 13,
     "metadata": {},
     "output_type": "execute_result"
    }
   ],
   "source": [
    "df = pd.concat([df, df_new])\n",
    "df.reset_index()"
   ]
  },
  {
   "cell_type": "code",
   "execution_count": 14,
   "id": "4d1ada64-753a-4d21-9f68-9774ae82a569",
   "metadata": {},
   "outputs": [
    {
     "data": {
      "text/html": [
       "<div>\n",
       "<style scoped>\n",
       "    .dataframe tbody tr th:only-of-type {\n",
       "        vertical-align: middle;\n",
       "    }\n",
       "\n",
       "    .dataframe tbody tr th {\n",
       "        vertical-align: top;\n",
       "    }\n",
       "\n",
       "    .dataframe thead th {\n",
       "        text-align: right;\n",
       "    }\n",
       "</style>\n",
       "<table border=\"1\" class=\"dataframe\">\n",
       "  <thead>\n",
       "    <tr style=\"text-align: right;\">\n",
       "      <th></th>\n",
       "      <th>X</th>\n",
       "      <th>Y</th>\n",
       "      <th>Class</th>\n",
       "    </tr>\n",
       "  </thead>\n",
       "  <tbody>\n",
       "    <tr>\n",
       "      <th>0</th>\n",
       "      <td>2</td>\n",
       "      <td>7</td>\n",
       "      <td>c1</td>\n",
       "    </tr>\n",
       "    <tr>\n",
       "      <th>1</th>\n",
       "      <td>3</td>\n",
       "      <td>9</td>\n",
       "      <td>c1</td>\n",
       "    </tr>\n",
       "  </tbody>\n",
       "</table>\n",
       "</div>"
      ],
      "text/plain": [
       "   X  Y Class\n",
       "0  2  7    c1\n",
       "1  3  9    c1"
      ]
     },
     "execution_count": 14,
     "metadata": {},
     "output_type": "execute_result"
    }
   ],
   "source": [
    "df_new = pd.DataFrame({\n",
    "    'X':[2,3],\n",
    "    'Y':[7,9],\n",
    "    'Class':['c1','c1']\n",
    "})\n",
    "df_new.head()"
   ]
  },
  {
   "cell_type": "code",
   "execution_count": 15,
   "id": "308505bd-232a-4f66-859b-f8dd8e3f1f58",
   "metadata": {},
   "outputs": [
    {
     "data": {
      "text/html": [
       "<div>\n",
       "<style scoped>\n",
       "    .dataframe tbody tr th:only-of-type {\n",
       "        vertical-align: middle;\n",
       "    }\n",
       "\n",
       "    .dataframe tbody tr th {\n",
       "        vertical-align: top;\n",
       "    }\n",
       "\n",
       "    .dataframe thead th {\n",
       "        text-align: right;\n",
       "    }\n",
       "</style>\n",
       "<table border=\"1\" class=\"dataframe\">\n",
       "  <thead>\n",
       "    <tr style=\"text-align: right;\">\n",
       "      <th></th>\n",
       "      <th>index</th>\n",
       "      <th>X</th>\n",
       "      <th>Y</th>\n",
       "      <th>Class</th>\n",
       "    </tr>\n",
       "  </thead>\n",
       "  <tbody>\n",
       "    <tr>\n",
       "      <th>0</th>\n",
       "      <td>1</td>\n",
       "      <td>2</td>\n",
       "      <td>1</td>\n",
       "      <td>c1</td>\n",
       "    </tr>\n",
       "    <tr>\n",
       "      <th>1</th>\n",
       "      <td>2</td>\n",
       "      <td>4</td>\n",
       "      <td>3</td>\n",
       "      <td>c1</td>\n",
       "    </tr>\n",
       "    <tr>\n",
       "      <th>2</th>\n",
       "      <td>3</td>\n",
       "      <td>3</td>\n",
       "      <td>2</td>\n",
       "      <td>c1</td>\n",
       "    </tr>\n",
       "    <tr>\n",
       "      <th>3</th>\n",
       "      <td>4</td>\n",
       "      <td>6</td>\n",
       "      <td>5</td>\n",
       "      <td>c1</td>\n",
       "    </tr>\n",
       "    <tr>\n",
       "      <th>4</th>\n",
       "      <td>5</td>\n",
       "      <td>5</td>\n",
       "      <td>4</td>\n",
       "      <td>c1</td>\n",
       "    </tr>\n",
       "    <tr>\n",
       "      <th>5</th>\n",
       "      <td>6</td>\n",
       "      <td>5</td>\n",
       "      <td>2</td>\n",
       "      <td>c1</td>\n",
       "    </tr>\n",
       "    <tr>\n",
       "      <th>6</th>\n",
       "      <td>7</td>\n",
       "      <td>6</td>\n",
       "      <td>3</td>\n",
       "      <td>c1</td>\n",
       "    </tr>\n",
       "    <tr>\n",
       "      <th>7</th>\n",
       "      <td>8</td>\n",
       "      <td>1</td>\n",
       "      <td>2</td>\n",
       "      <td>c2</td>\n",
       "    </tr>\n",
       "    <tr>\n",
       "      <th>8</th>\n",
       "      <td>9</td>\n",
       "      <td>3</td>\n",
       "      <td>4</td>\n",
       "      <td>c2</td>\n",
       "    </tr>\n",
       "    <tr>\n",
       "      <th>9</th>\n",
       "      <td>10</td>\n",
       "      <td>2</td>\n",
       "      <td>3</td>\n",
       "      <td>c2</td>\n",
       "    </tr>\n",
       "    <tr>\n",
       "      <th>10</th>\n",
       "      <td>11</td>\n",
       "      <td>5</td>\n",
       "      <td>6</td>\n",
       "      <td>c2</td>\n",
       "    </tr>\n",
       "    <tr>\n",
       "      <th>11</th>\n",
       "      <td>12</td>\n",
       "      <td>4</td>\n",
       "      <td>5</td>\n",
       "      <td>c2</td>\n",
       "    </tr>\n",
       "    <tr>\n",
       "      <th>12</th>\n",
       "      <td>13</td>\n",
       "      <td>2</td>\n",
       "      <td>5</td>\n",
       "      <td>c2</td>\n",
       "    </tr>\n",
       "    <tr>\n",
       "      <th>13</th>\n",
       "      <td>14</td>\n",
       "      <td>3</td>\n",
       "      <td>6</td>\n",
       "      <td>c2</td>\n",
       "    </tr>\n",
       "    <tr>\n",
       "      <th>14</th>\n",
       "      <td>0</td>\n",
       "      <td>8</td>\n",
       "      <td>2</td>\n",
       "      <td>c1</td>\n",
       "    </tr>\n",
       "    <tr>\n",
       "      <th>15</th>\n",
       "      <td>1</td>\n",
       "      <td>10</td>\n",
       "      <td>4</td>\n",
       "      <td>c1</td>\n",
       "    </tr>\n",
       "    <tr>\n",
       "      <th>16</th>\n",
       "      <td>0</td>\n",
       "      <td>2</td>\n",
       "      <td>7</td>\n",
       "      <td>c1</td>\n",
       "    </tr>\n",
       "    <tr>\n",
       "      <th>17</th>\n",
       "      <td>1</td>\n",
       "      <td>3</td>\n",
       "      <td>9</td>\n",
       "      <td>c1</td>\n",
       "    </tr>\n",
       "  </tbody>\n",
       "</table>\n",
       "</div>"
      ],
      "text/plain": [
       "    index   X  Y Class\n",
       "0       1   2  1    c1\n",
       "1       2   4  3    c1\n",
       "2       3   3  2    c1\n",
       "3       4   6  5    c1\n",
       "4       5   5  4    c1\n",
       "5       6   5  2    c1\n",
       "6       7   6  3    c1\n",
       "7       8   1  2    c2\n",
       "8       9   3  4    c2\n",
       "9      10   2  3    c2\n",
       "10     11   5  6    c2\n",
       "11     12   4  5    c2\n",
       "12     13   2  5    c2\n",
       "13     14   3  6    c2\n",
       "14      0   8  2    c1\n",
       "15      1  10  4    c1\n",
       "16      0   2  7    c1\n",
       "17      1   3  9    c1"
      ]
     },
     "execution_count": 15,
     "metadata": {},
     "output_type": "execute_result"
    }
   ],
   "source": [
    "df = pd.concat([df, df_new])\n",
    "df.reset_index()"
   ]
  },
  {
   "cell_type": "code",
   "execution_count": 17,
   "id": "26713495-a3a6-4e15-bb0b-ac24d9dc8c5d",
   "metadata": {},
   "outputs": [
    {
     "data": {
      "image/png": "[encoded data removed]",
      "text/plain": [
       "<Figure size 800x600 with 1 Axes>"
      ]
     },
     "metadata": {},
     "output_type": "display_data"
    }
   ],
   "source": [
    "plt.figure(figsize=(8, 6))\n",
    "plt.scatter(df[df['Class'] == 'c1']['X'], df[df['Class'] == 'c1']['Y'], color='blue', label='Class c1')\n",
    "plt.scatter(df[df['Class'] == 'c2']['X'], df[df['Class'] == 'c2']['Y'], color='red', label='Class c2')\n",
    "plt.title('Scatter Plot of Data for Class c1 and c2')\n",
    "plt.xlabel('X')\n",
    "plt.ylabel('Y')\n",
    "plt.legend()\n",
    "plt.show()"
   ]
  },
  {
   "cell_type": "markdown",
   "id": "5b75d0bd-9d21-4e64-8d04-e4c7066de5e0",
   "metadata": {},
   "source": [
    "## Gausian Bayes, Multinomial Naive Bayes"
   ]
  },
  {
   "cell_type": "code",
   "execution_count": 18,
   "id": "b84dbced-40ad-47b6-b034-6865ddea6110",
   "metadata": {
    "scrolled": true
   },
   "outputs": [
    {
     "name": "stdout",
     "output_type": "stream",
     "text": [
      "Accuracy of Bayes Model: 83.33%\n",
      "Accuracy of Naive Bayes Model: 83.33%\n",
      "Predictions with Bayes: [0 1 1 0 0 1]\n",
      "Predictions with Naive Bayes: [0 0 0 0 0 1]\n"
     ]
    },
    {
     "name": "stderr",
     "output_type": "stream",
     "text": [
      "C:\\Users\\Admin\\AppData\\Local\\Programs\\Python\\Python311\\Lib\\site-packages\\sklearn\\base.py:493: UserWarning: X does not have valid feature names, but GaussianNB was fitted with feature names\n",
      "  warnings.warn(\n",
      "C:\\Users\\Admin\\AppData\\Local\\Programs\\Python\\Python311\\Lib\\site-packages\\sklearn\\base.py:493: UserWarning: X does not have valid feature names, but MultinomialNB was fitted with feature names\n",
      "  warnings.warn(\n"
     ]
    },
    {
     "data": {
      "image/png": "[encoded data removed]",
      "text/plain": [
       "<Figure size 1800x500 with 2 Axes>"
      ]
     },
     "metadata": {},
     "output_type": "display_data"
    }
   ],
   "source": [
    "from sklearn.naive_bayes import GaussianNB\n",
    "from sklearn.naive_bayes import MultinomialNB\n",
    "\n",
    "# Convert class labels to numbers\n",
    "df['Class'] = df['Class'].map({'c1': 0, 'c2': 1})\n",
    "# Separate features and labels\n",
    "X_data = df[['X', 'Y']]\n",
    "y_data = df['Class']\n",
    "# Split data into training and testing sets\n",
    "X_train, X_test, y_train, y_test = train_test_split(X_data, y_data, test_size=0.3, random_state=42)\n",
    "\n",
    "# 1. Bayes Model (GaussianNB)\n",
    "bayes_model = GaussianNB()\n",
    "bayes_model.fit(X_train, y_train)\n",
    "\n",
    "# Predict using Bayes Model\n",
    "y_pred_bayes = bayes_model.predict(X_test)\n",
    "\n",
    "# Accuracy of the Bayes Model\n",
    "accuracy_bayes = accuracy_score(y_test, y_pred_bayes)\n",
    "print(f'Accuracy of Bayes Model: {accuracy_bayes * 100:.2f}%')\n",
    "\n",
    "# 2. Naive Bayes Model (MultinomialNB)\n",
    "# Since our data is numerical, we are using GaussianNB for the most appropriate model. \n",
    "# However, MultinomialNB is used here just to demonstrate a different method for discrete data.\n",
    "naive_bayes_model = MultinomialNB()\n",
    "naive_bayes_model.fit(X_train, y_train)\n",
    "\n",
    "# Predict using Naive Bayes Model\n",
    "y_pred_naive_bayes = naive_bayes_model.predict(X_test)\n",
    "\n",
    "# Accuracy of the Naive Bayes Model\n",
    "accuracy_naive_bayes = accuracy_score(y_test, y_pred_naive_bayes)\n",
    "print(f'Accuracy of Naive Bayes Model: {accuracy_naive_bayes * 100:.2f}%')\n",
    "\n",
    "# Displaying predictions\n",
    "print(\"Predictions with Bayes:\", y_pred_bayes)\n",
    "print(\"Predictions with Naive Bayes:\", y_pred_naive_bayes)\n",
    "\n",
    "\n",
    "# Function to plot decision boundary for Naive Bayes models\n",
    "def plot_decision_boundary(model, X_data, y_data, title):\n",
    "    # Create a grid of points (in a meshgrid) to evaluate the model over a region\n",
    "    x_min, x_max = X_data['X'].min() - 1, X_data['X'].max() + 1\n",
    "    y_min, y_max = X_data['Y'].min() - 1, X_data['Y'].max() + 1\n",
    "    xx, yy = np.meshgrid(np.arange(x_min, x_max, 0.1),\n",
    "                         np.arange(y_min, y_max, 0.1))\n",
    "    \n",
    "    # Flatten the grid to pass through the model\n",
    "    Z = model.predict(np.c_[xx.ravel(), yy.ravel()])\n",
    "    Z = Z.reshape(xx.shape)\n",
    "\n",
    "    # Plot the contour (decision boundary)\n",
    "    plt.contourf(xx, yy, Z, alpha=0.75, cmap=plt.cm.bwr, levels=np.linspace(0, 1, 3))\n",
    "    plt.scatter(X_data['X'], X_data['Y'], c=y_data, cmap=plt.cm.bwr, edgecolors='k', marker='o')\n",
    "    plt.title(title)\n",
    "    plt.xlabel('X')\n",
    "    plt.ylabel('Y')\n",
    "\n",
    "# Plotting decision boundaries for each Naive Bayes model\n",
    "plt.figure(figsize=(18, 5))\n",
    "\n",
    "plt.subplot(121)\n",
    "plot_decision_boundary(bayes_model, X_data, y_data, 'Gaussian Bayes Decision Boundary')\n",
    "\n",
    "plt.subplot(122)\n",
    "plot_decision_boundary(naive_bayes_model, X_data, y_data, 'Multinomial Naive Bayes Decision Boundary')\n",
    "\n",
    "plt.tight_layout()\n",
    "plt.show()\n"
   ]
  },
  {
   "cell_type": "markdown",
   "id": "4e823456-584e-4336-bceb-ea7f42e6580a",
   "metadata": {},
   "source": [
    "Bayesian models low error with misclassified data"
   ]
  },
  {
   "cell_type": "markdown",
   "id": "bd15e7a0-87ea-48e6-a59e-e2e64af39093",
   "metadata": {},
   "source": [
    "## Linear Regression, Lasso, Ridge"
   ]
  },
  {
   "cell_type": "code",
   "execution_count": 19,
   "id": "8e99b2d0-68be-4b06-8efc-0cbdcd3d3f0b",
   "metadata": {
    "scrolled": true
   },
   "outputs": [
    {
     "name": "stdout",
     "output_type": "stream",
     "text": [
      "Linear Regression - MSE: 0.2504, MAE: 0.4764\n",
      "Lasso Regression - MSE: 0.2131, MAE: 0.4497\n",
      "Ridge Regression - MSE: 0.2502, MAE: 0.4763\n"
     ]
    },
    {
     "name": "stderr",
     "output_type": "stream",
     "text": [
      "C:\\Users\\Admin\\AppData\\Local\\Programs\\Python\\Python311\\Lib\\site-packages\\sklearn\\base.py:493: UserWarning: X does not have valid feature names, but LinearRegression was fitted with feature names\n",
      "  warnings.warn(\n",
      "C:\\Users\\Admin\\AppData\\Local\\Programs\\Python\\Python311\\Lib\\site-packages\\sklearn\\base.py:493: UserWarning: X does not have valid feature names, but Lasso was fitted with feature names\n",
      "  warnings.warn(\n",
      "C:\\Users\\Admin\\AppData\\Local\\Programs\\Python\\Python311\\Lib\\site-packages\\sklearn\\base.py:493: UserWarning: X does not have valid feature names, but Ridge was fitted with feature names\n",
      "  warnings.warn(\n"
     ]
    },
    {
     "data": {
      "image/png": "[encoded data removed]",
      "text/plain": [
       "<Figure size 1800x500 with 3 Axes>"
      ]
     },
     "metadata": {},
     "output_type": "display_data"
    }
   ],
   "source": [
    "from sklearn.linear_model import LinearRegression, Lasso, Ridge\n",
    "from sklearn.metrics import mean_squared_error, mean_absolute_error\n",
    "\n",
    "# 1. Linear Regression (Without Regularization)\n",
    "linear_model = LinearRegression()\n",
    "linear_model.fit(X_train, y_train)\n",
    "\n",
    "# Predictions with linear model\n",
    "y_pred_linear = linear_model.predict(X_test)\n",
    "\n",
    "# Calculate MSE and MAE for linear regression\n",
    "mse_linear = mean_squared_error(y_test, y_pred_linear)\n",
    "mae_linear = mean_absolute_error(y_test, y_pred_linear)\n",
    "print(f'Linear Regression - MSE: {mse_linear:.4f}, MAE: {mae_linear:.4f}')\n",
    "\n",
    "# 2. Lasso Regression (L1 Regularization)\n",
    "lasso_model = Lasso(alpha=0.1)  # alpha is the regularization parameter\n",
    "lasso_model.fit(X_train, y_train)\n",
    "\n",
    "# Predictions with lasso model\n",
    "y_pred_lasso = lasso_model.predict(X_test)\n",
    "\n",
    "# Calculate MSE and MAE for lasso regression\n",
    "mse_lasso = mean_squared_error(y_test, y_pred_lasso)\n",
    "mae_lasso = mean_absolute_error(y_test, y_pred_lasso)\n",
    "print(f'Lasso Regression - MSE: {mse_lasso:.4f}, MAE: {mae_lasso:.4f}')\n",
    "\n",
    "# 3. Ridge Regression (L2 Regularization)\n",
    "ridge_model = Ridge(alpha=0.1)  # alpha is the regularization parameter\n",
    "ridge_model.fit(X_train, y_train)\n",
    "\n",
    "# Predictions with ridge model\n",
    "y_pred_ridge = ridge_model.predict(X_test)\n",
    "\n",
    "# Calculate MSE and MAE for ridge regression\n",
    "mse_ridge = mean_squared_error(y_test, y_pred_ridge)\n",
    "mae_ridge = mean_absolute_error(y_test, y_pred_ridge)\n",
    "print(f'Ridge Regression - MSE: {mse_ridge:.4f}, MAE: {mae_ridge:.4f}')\n",
    "\n",
    "\n",
    "# Function to plot decision boundary\n",
    "def plot_decision_boundary(model, X_data, y_data, title):\n",
    "    # Create a grid of points (in a meshgrid) to evaluate the model over a region\n",
    "    x_min, x_max = X_data['X'].min() - 1, X_data['X'].max() + 1\n",
    "    y_min, y_max = X_data['Y'].min() - 1, X_data['Y'].max() + 1\n",
    "    xx, yy = np.meshgrid(np.arange(x_min, x_max, 0.1),\n",
    "                         np.arange(y_min, y_max, 0.1))\n",
    "    \n",
    "    # Flatten the grid to pass through the model\n",
    "    Z = model.predict(np.c_[xx.ravel(), yy.ravel()])\n",
    "    Z = Z.reshape(xx.shape)\n",
    "\n",
    "    # Plot the contour (decision boundary)\n",
    "    plt.contourf(xx, yy, Z, alpha=0.75, cmap=plt.cm.bwr, levels=np.linspace(0, 1, 3))\n",
    "    plt.scatter(X_data['X'], X_data['Y'], c=y_data, cmap=plt.cm.bwr, edgecolors='k', marker='o')\n",
    "    plt.title(title)\n",
    "    plt.xlabel('X')\n",
    "    plt.ylabel('Y')\n",
    "\n",
    "# Plotting decision boundaries for each model\n",
    "plt.figure(figsize=(18, 5))\n",
    "\n",
    "plt.subplot(131)\n",
    "plot_decision_boundary(linear_model, X_data, y_data, 'Linear Regression Decision Boundary')\n",
    "\n",
    "plt.subplot(132)\n",
    "plot_decision_boundary(lasso_model, X_data, y_data, 'Lasso Regression Decision Boundary')\n",
    "\n",
    "plt.subplot(133)\n",
    "plot_decision_boundary(ridge_model, X_data, y_data, 'Ridge Regression Decision Boundary')\n",
    "\n",
    "plt.tight_layout()\n",
    "plt.show()\n"
   ]
  },
  {
   "cell_type": "markdown",
   "id": "84c7018d-8bef-4975-ba82-494d50b45850",
   "metadata": {},
   "source": [
    "all linear regression models high error with misclassified data"
   ]
  },
  {
   "cell_type": "markdown",
   "id": "e1d798dd-63a3-48a7-b595-4e7d0709128c",
   "metadata": {},
   "source": [
    "## Logistic Regression"
   ]
  },
  {
   "cell_type": "code",
   "execution_count": 20,
   "id": "4f54160b-57e1-46a7-a466-8e55d01fce35",
   "metadata": {
    "scrolled": true
   },
   "outputs": [
    {
     "name": "stderr",
     "output_type": "stream",
     "text": [
      "C:\\Users\\Admin\\AppData\\Local\\Programs\\Python\\Python311\\Lib\\site-packages\\sklearn\\base.py:493: UserWarning: X does not have valid feature names, but LogisticRegression was fitted with feature names\n",
      "  warnings.warn(\n"
     ]
    },
    {
     "data": {
      "image/png": "[encoded data removed]",
      "text/plain": [
       "<Figure size 800x600 with 1 Axes>"
      ]
     },
     "metadata": {},
     "output_type": "display_data"
    }
   ],
   "source": [
    "from sklearn.linear_model import LogisticRegression\n",
    "\n",
    "# 1. Logistic Regression Model\n",
    "logreg_model = LogisticRegression()\n",
    "logreg_model.fit(X_train, y_train)\n",
    "\n",
    "# Function to plot decision boundary for Logistic Regression\n",
    "def plot_decision_boundary(model, X_data, y_data, title):\n",
    "    # Create a grid of points (in a meshgrid) to evaluate the model over a region\n",
    "    x_min, x_max = X_data['X'].min() - 1, X_data['X'].max() + 1\n",
    "    y_min, y_max = X_data['Y'].min() - 1, X_data['Y'].max() + 1\n",
    "    xx, yy = np.meshgrid(np.arange(x_min, x_max, 0.1),\n",
    "                         np.arange(y_min, y_max, 0.1))\n",
    "    \n",
    "    # Flatten the grid to pass through the model\n",
    "    Z = model.predict(np.c_[xx.ravel(), yy.ravel()])\n",
    "    Z = Z.reshape(xx.shape)\n",
    "\n",
    "    # Plot the contour (decision boundary)\n",
    "    plt.contourf(xx, yy, Z, alpha=0.75, cmap=plt.cm.bwr, levels=np.linspace(0, 1, 3))\n",
    "    plt.scatter(X_data['X'], X_data['Y'], c=y_data, cmap=plt.cm.bwr, edgecolors='k', marker='o')\n",
    "    plt.title(title)\n",
    "    plt.xlabel('X')\n",
    "    plt.ylabel('Y')\n",
    "\n",
    "# Plotting decision boundary for Logistic Regression model\n",
    "plt.figure(figsize=(8, 6))\n",
    "plot_decision_boundary(logreg_model, X_data, y_data, 'Logistic Regression Decision Boundary')\n",
    "plt.show()\n"
   ]
  },
  {
   "cell_type": "markdown",
   "id": "b080439e-0cc7-4dcd-bad4-a3c82ecad0c5",
   "metadata": {},
   "source": [
    "logistic regression low error with misclassified data"
   ]
  },
  {
   "cell_type": "markdown",
   "id": "d1b9b32a-0b27-48e8-a589-f5f66367c1a1",
   "metadata": {},
   "source": [
    "## Support Vector Machine"
   ]
  },
  {
   "cell_type": "code",
   "execution_count": 21,
   "id": "912a8e56-b638-4ddb-8945-0d45eba23f24",
   "metadata": {
    "scrolled": true
   },
   "outputs": [
    {
     "name": "stderr",
     "output_type": "stream",
     "text": [
      "C:\\Users\\Admin\\AppData\\Local\\Programs\\Python\\Python311\\Lib\\site-packages\\sklearn\\base.py:493: UserWarning: X does not have valid feature names, but SVC was fitted with feature names\n",
      "  warnings.warn(\n"
     ]
    },
    {
     "data": {
      "image/png": "[encoded data removed]",
      "text/plain": [
       "<Figure size 800x600 with 1 Axes>"
      ]
     },
     "metadata": {},
     "output_type": "display_data"
    }
   ],
   "source": [
    "from sklearn.svm import SVC\n",
    "\n",
    "# 1. SVM Model (Support Vector Machine)\n",
    "svm_model = SVC(kernel='linear')\n",
    "svm_model.fit(X_train, y_train)\n",
    "\n",
    "# Function to plot decision boundary for SVM model\n",
    "def plot_decision_boundary(model, X_data, y_data, title):\n",
    "    # Create a grid of points (in a meshgrid) to evaluate the model over a region\n",
    "    x_min, x_max = X_data['X'].min() - 1, X_data['X'].max() + 1\n",
    "    y_min, y_max = X_data['Y'].min() - 1, X_data['Y'].max() + 1\n",
    "    xx, yy = np.meshgrid(np.arange(x_min, x_max, 0.1),\n",
    "                         np.arange(y_min, y_max, 0.1))\n",
    "    \n",
    "    # Flatten the grid to pass through the model\n",
    "    Z = model.predict(np.c_[xx.ravel(), yy.ravel()])\n",
    "    Z = Z.reshape(xx.shape)\n",
    "\n",
    "    # Plot the contour (decision boundary)\n",
    "    plt.contourf(xx, yy, Z, alpha=0.75, cmap=plt.cm.bwr, levels=np.linspace(0, 1, 3))\n",
    "    plt.scatter(X_data['X'], X_data['Y'], c=y_data, cmap=plt.cm.bwr, edgecolors='k', marker='o')\n",
    "    plt.title(title)\n",
    "    plt.xlabel('X')\n",
    "    plt.ylabel('Y')\n",
    "\n",
    "# Plotting decision boundary for SVM model\n",
    "plt.figure(figsize=(8, 6))\n",
    "plot_decision_boundary(svm_model, X_data, y_data, 'SVM Decision Boundary')\n",
    "plt.show()\n"
   ]
  },
  {
   "cell_type": "markdown",
   "id": "13076408-6942-4b1d-bbb6-7e2c5b6a951c",
   "metadata": {},
   "source": [
    "hard svm cannot deal with misclassified data"
   ]
  },
  {
   "cell_type": "markdown",
   "id": "80f60097-357c-4cca-995f-c3c5d1e20952",
   "metadata": {},
   "source": [
    "## Perceptron"
   ]
  },
  {
   "cell_type": "code",
   "execution_count": 22,
   "id": "5a1509d4-7d2b-4d48-87f7-4b8b1ba5bb3d",
   "metadata": {
    "scrolled": true
   },
   "outputs": [
    {
     "name": "stderr",
     "output_type": "stream",
     "text": [
      "C:\\Users\\Admin\\AppData\\Local\\Programs\\Python\\Python311\\Lib\\site-packages\\sklearn\\base.py:493: UserWarning: X does not have valid feature names, but Perceptron was fitted with feature names\n",
      "  warnings.warn(\n"
     ]
    },
    {
     "data": {
      "image/png": "[encoded data removed]",
      "text/plain": [
       "<Figure size 800x600 with 1 Axes>"
      ]
     },
     "metadata": {},
     "output_type": "display_data"
    }
   ],
   "source": [
    "from sklearn.linear_model import Perceptron\n",
    "\n",
    "# 1. Perceptron Model\n",
    "perceptron_model = Perceptron()\n",
    "perceptron_model.fit(X_train, y_train)\n",
    "\n",
    "# Function to plot decision boundary for Perceptron model\n",
    "def plot_decision_boundary(model, X_data, y_data, title):\n",
    "    # Create a grid of points (in a meshgrid) to evaluate the model over a region\n",
    "    x_min, x_max = X_data['X'].min() - 1, X_data['X'].max() + 1\n",
    "    y_min, y_max = X_data['Y'].min() - 1, X_data['Y'].max() + 1\n",
    "    xx, yy = np.meshgrid(np.arange(x_min, x_max, 0.1),\n",
    "                         np.arange(y_min, y_max, 0.1))\n",
    "    \n",
    "    # Flatten the grid to pass through the model\n",
    "    Z = model.predict(np.c_[xx.ravel(), yy.ravel()])\n",
    "    Z = Z.reshape(xx.shape)\n",
    "\n",
    "    # Plot the contour (decision boundary)\n",
    "    plt.contourf(xx, yy, Z, alpha=0.75, cmap=plt.cm.bwr, levels=np.linspace(0, 1, 3))\n",
    "    plt.scatter(X_data['X'], X_data['Y'], c=y_data, cmap=plt.cm.bwr, edgecolors='k', marker='o')\n",
    "    plt.title(title)\n",
    "    plt.xlabel('X')\n",
    "    plt.ylabel('Y')\n",
    "\n",
    "# Plotting decision boundary for Perceptron model\n",
    "plt.figure(figsize=(8, 6))\n",
    "plot_decision_boundary(perceptron_model, X_data, y_data, 'Perceptron Decision Boundary')\n",
    "plt.show()\n"
   ]
  },
  {
   "cell_type": "markdown",
   "id": "f39cdb6f-2115-4fdd-b447-3c2562e79596",
   "metadata": {},
   "source": [
    "perceptron cannot work with linear non separable data"
   ]
  }
 ],
 "metadata": {
  "kernelspec": {
   "display_name": "Python 3 (ipykernel)",
   "language": "python",
   "name": "python3"
  },
  "language_info": {
   "codemirror_mode": {
    "name": "ipython",
    "version": 3
   },
   "file_extension": ".py",
   "mimetype": "text/x-python",
   "name": "python",
   "nbconvert_exporter": "python",
   "pygments_lexer": "ipython3",
   "version": "3.11.5"
  }
 },
 "nbformat": 4,
 "nbformat_minor": 5
}
